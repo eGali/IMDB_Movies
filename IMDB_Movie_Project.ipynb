{
 "cells": [
  {
   "cell_type": "markdown",
   "metadata": {},
   "source": [
    "# IMDB Movie Project"
   ]
  },
  {
   "cell_type": "code",
   "execution_count": 1,
   "metadata": {
    "collapsed": false
   },
   "outputs": [],
   "source": [
    "import pandas as pd\n",
    "from sklearn.preprocessing import Imputer\n",
    "from easymoney.money import EasyPeasy\n",
    "from time import time\n",
    "import numpy as np\n",
    "import math\n",
    "from sklearn.linear_model import LinearRegression\n",
    "from sklearn.linear_model import LogisticRegression\n",
    "from sklearn import metrics\n",
    "from sklearn.model_selection import cross_val_score\n",
    "import matplotlib.pyplot as plt\n",
    "from sklearn.preprocessing import MinMaxScaler\n",
    "from numpy.linalg import norm\n",
    "from copy import deepcopy\n",
    "import random as rd\n",
    "from sklearn.cluster import KMeans\n",
    "from sklearn.neighbors import KNeighborsClassifier\n",
    "from sklearn.model_selection import train_test_split\n",
    "from sklearn.metrics import accuracy_score"
   ]
  },
  {
   "cell_type": "code",
   "execution_count": 2,
   "metadata": {
    "collapsed": false
   },
   "outputs": [],
   "source": [
    "# import the data set\n",
    "movieDS = pd.read_csv('https://raw.githubusercontent.com/eGali/IMDB_Movies/master/movie_metadata.csv')"
   ]
  },
  {
   "cell_type": "code",
   "execution_count": 3,
   "metadata": {
    "collapsed": false
   },
   "outputs": [],
   "source": [
    "# these are the features to be removed\n",
    "# we chose these because we do not believe they are relevant enough to consider for prediction\n",
    "\n",
    "featRemove = ['aspect_ratio', 'movie_imdb_link', 'facenumber_in_poster']\n",
    "\n",
    "# remove all of the features we indicated above\n",
    "\n",
    "movieDS = movieDS.drop(labels=featRemove, axis=1, inplace=False, errors='raise')"
   ]
  },
  {
   "cell_type": "code",
   "execution_count": 4,
   "metadata": {
    "collapsed": false
   },
   "outputs": [
    {
     "data": {
      "text/plain": [
       "(5043, 25)"
      ]
     },
     "execution_count": 4,
     "metadata": {},
     "output_type": "execute_result"
    }
   ],
   "source": [
    "# we show that now we only have 25 features instead of 28\n",
    "movieDS.shape"
   ]
  },
  {
   "cell_type": "code",
   "execution_count": 5,
   "metadata": {
    "collapsed": false
   },
   "outputs": [
    {
     "data": {
      "text/plain": [
       "40"
      ]
     },
     "execution_count": 5,
     "metadata": {},
     "output_type": "execute_result"
    }
   ],
   "source": [
    "#  This is searching for all of the unique countries and how many times they appear\n",
    "#  A list is being built to drop countries with only 1 film end result is 28\n",
    "\n",
    "c_count = 1\n",
    "country_count = {}\n",
    "to_drop = []\n",
    "for x in movieDS['country']:\n",
    "    if x not in country_count:\n",
    "        country_count[x] = c_count\n",
    "    else:\n",
    "        country_count[x] += 1\n",
    "        \n",
    "for x in country_count:\n",
    "    if country_count[x] < 5:\n",
    "        to_drop.append(x)\n",
    "len(to_drop)"
   ]
  },
  {
   "cell_type": "code",
   "execution_count": 6,
   "metadata": {
    "collapsed": false
   },
   "outputs": [],
   "source": [
    "# These are countries that have to be renamed\n",
    "\n",
    "prob_list = ['USA', 'UK', 'South Korea', 'Russia', 'West Germany', 'Taiwan', 'Iran', 'Argentina']\n",
    "resolve_list = ['United States', 'United Kingdom', 'Korea, Republic of', 'Russian Federation', \\\n",
    "                'Germany', 'China', 'Turkey', 'Brazil']\n",
    "\n",
    "prob_dict = {}\n",
    "\n",
    "for x in range(len(prob_list)-1):\n",
    "    prob_dict[prob_list[x]] = resolve_list[x]"
   ]
  },
  {
   "cell_type": "code",
   "execution_count": 7,
   "metadata": {
    "collapsed": true
   },
   "outputs": [],
   "source": [
    "# here we are asserting that we will only accept samples that have 4 or less missing values\n",
    "# this is to help make sure our samples aren't -too- incomplete\n",
    "# also dropping rows that are either missing their budget or gross\n",
    "\n",
    "count = 0\n",
    "rows = movieDS.shape[0]\n",
    "for f in range(0, rows):\n",
    "    # counts the number of null values for the row\n",
    "    if(movieDS.ix[f].isnull().sum() >= 3):\n",
    "        # if more than or equal to 4, remove them from the dataset\n",
    "        movieDS = movieDS.drop(count)\n",
    "    elif(np.isnan(movieDS.ix[f]['title_year'])):\n",
    "        movieDS = movieDS.drop(count)\n",
    "    elif(np.isnan(movieDS.ix[f]['budget'])):\n",
    "        movieDS = movieDS.drop(count)\n",
    "    elif(np.isnan(movieDS.ix[f]['gross'])):\n",
    "        movieDS = movieDS.drop(count)\n",
    "    elif movieDS.ix[f]['country'] in to_drop:\n",
    "        movieDS = movieDS.drop(count)\n",
    "    elif movieDS.ix[f]['country'] in prob_dict:\n",
    "        movieDS.ix[f,'country'] = prob_dict[movieDS.ix[f]['country']]\n",
    "    count += 1"
   ]
  },
  {
   "cell_type": "code",
   "execution_count": 8,
   "metadata": {
    "collapsed": false
   },
   "outputs": [
    {
     "name": "stdout",
     "output_type": "stream",
     "text": [
      "33\n"
     ]
    }
   ],
   "source": [
    "# This is only to check how many unique elements are there in a given column and the amount\n",
    "# ['color', 'director_name', 'actor_2_name', 'genres', 'actor_1_name', \\\n",
    "#             'movie_title', 'actor_3_name', 'plot_keywords', 'language', 'country', 'content_rating']\n",
    "\n",
    "c_count = 1\n",
    "country_count = {}\n",
    "for x in movieDS['language']:\n",
    "    if x not in country_count:\n",
    "        country_count[x] = c_count\n",
    "    else:\n",
    "        country_count[x] += 1\n",
    "        \n",
    "print(len(country_count))"
   ]
  },
  {
   "cell_type": "markdown",
   "metadata": {
    "collapsed": false
   },
   "source": [
    "At this point, the DataFrame has 25 features, with samples that contain NaN"
   ]
  },
  {
   "cell_type": "markdown",
   "metadata": {},
   "source": [
    "The threshold for the missing data value tolerance is going to be 4 missing values."
   ]
  },
  {
   "cell_type": "code",
   "execution_count": 9,
   "metadata": {
    "collapsed": true
   },
   "outputs": [],
   "source": [
    "# categorical features\n",
    "wordCols = ['color', 'director_name', 'actor_2_name', 'genres', 'actor_1_name', \\\n",
    "            'movie_title', 'actor_3_name', 'plot_keywords', 'language', 'country', 'content_rating']\n",
    "\n",
    "# discrete features\n",
    "numCols = ['num_critic_for_reviews', 'duration','director_facebook_likes', \\\n",
    "           'actor_3_facebook_likes', 'actor_1_facebook_likes', 'num_voted_users', \\\n",
    "           'cast_total_facebook_likes', 'num_user_for_reviews', 'budget', \\\n",
    "           'title_year','actor_2_facebook_likes', 'imdb_score', 'movie_facebook_likes', 'gross']"
   ]
  },
  {
   "cell_type": "code",
   "execution_count": 10,
   "metadata": {
    "collapsed": false
   },
   "outputs": [
    {
     "name": "stdout",
     "output_type": "stream",
     "text": [
      "25\n"
     ]
    }
   ],
   "source": [
    "# splitting the categorical features from the DataFrame\n",
    "xWords = movieDS[wordCols]\n",
    "\n",
    "# splitting the discrete features from the DataFrame\n",
    "xNums = movieDS[numCols]\n",
    "\n",
    "# splitting the desired label from the DataFrame\n",
    "y = movieDS['gross']\n",
    "\n",
    "# if we add the columns of each matrix/dataframe, we should end up with our original 25 columns/features\n",
    "print(xWords.shape[1] + xNums.shape[1])"
   ]
  },
  {
   "cell_type": "code",
   "execution_count": 11,
   "metadata": {
    "collapsed": false
   },
   "outputs": [],
   "source": [
    "movieDS = movieDS.reset_index()\n",
    "rows = movieDS.shape[0]"
   ]
  },
  {
   "cell_type": "code",
   "execution_count": 12,
   "metadata": {
    "collapsed": false
   },
   "outputs": [
    {
     "data": {
      "text/html": [
       "<div>\n",
       "<table border=\"1\" class=\"dataframe\">\n",
       "  <thead>\n",
       "    <tr style=\"text-align: right;\">\n",
       "      <th></th>\n",
       "      <th>index</th>\n",
       "      <th>color</th>\n",
       "      <th>director_name</th>\n",
       "      <th>num_critic_for_reviews</th>\n",
       "      <th>duration</th>\n",
       "      <th>director_facebook_likes</th>\n",
       "      <th>actor_3_facebook_likes</th>\n",
       "      <th>actor_2_name</th>\n",
       "      <th>actor_1_facebook_likes</th>\n",
       "      <th>gross</th>\n",
       "      <th>...</th>\n",
       "      <th>plot_keywords</th>\n",
       "      <th>num_user_for_reviews</th>\n",
       "      <th>language</th>\n",
       "      <th>country</th>\n",
       "      <th>content_rating</th>\n",
       "      <th>budget</th>\n",
       "      <th>title_year</th>\n",
       "      <th>actor_2_facebook_likes</th>\n",
       "      <th>imdb_score</th>\n",
       "      <th>movie_facebook_likes</th>\n",
       "    </tr>\n",
       "  </thead>\n",
       "  <tbody>\n",
       "    <tr>\n",
       "      <th>0</th>\n",
       "      <td>0</td>\n",
       "      <td>Color</td>\n",
       "      <td>James Cameron</td>\n",
       "      <td>723.0</td>\n",
       "      <td>178.0</td>\n",
       "      <td>0.0</td>\n",
       "      <td>855.0</td>\n",
       "      <td>Joel David Moore</td>\n",
       "      <td>1000.0</td>\n",
       "      <td>760505847.0</td>\n",
       "      <td>...</td>\n",
       "      <td>avatar|future|marine|native|paraplegic</td>\n",
       "      <td>3054.0</td>\n",
       "      <td>English</td>\n",
       "      <td>United States</td>\n",
       "      <td>PG-13</td>\n",
       "      <td>237000000.0</td>\n",
       "      <td>2009.0</td>\n",
       "      <td>936.0</td>\n",
       "      <td>7.9</td>\n",
       "      <td>33000</td>\n",
       "    </tr>\n",
       "    <tr>\n",
       "      <th>500</th>\n",
       "      <td>523</td>\n",
       "      <td>Color</td>\n",
       "      <td>Steven Spielberg</td>\n",
       "      <td>177.0</td>\n",
       "      <td>129.0</td>\n",
       "      <td>14000.0</td>\n",
       "      <td>227.0</td>\n",
       "      <td>Richard Schiff</td>\n",
       "      <td>610.0</td>\n",
       "      <td>229074524.0</td>\n",
       "      <td>...</td>\n",
       "      <td>capture|dinosaur|island|jurassic|jurassic park</td>\n",
       "      <td>552.0</td>\n",
       "      <td>English</td>\n",
       "      <td>United States</td>\n",
       "      <td>PG-13</td>\n",
       "      <td>73000000.0</td>\n",
       "      <td>1997.0</td>\n",
       "      <td>506.0</td>\n",
       "      <td>6.5</td>\n",
       "      <td>0</td>\n",
       "    </tr>\n",
       "    <tr>\n",
       "      <th>1000</th>\n",
       "      <td>1058</td>\n",
       "      <td>Color</td>\n",
       "      <td>John McTiernan</td>\n",
       "      <td>152.0</td>\n",
       "      <td>113.0</td>\n",
       "      <td>323.0</td>\n",
       "      <td>835.0</td>\n",
       "      <td>Faye Dunaway</td>\n",
       "      <td>1000.0</td>\n",
       "      <td>69304264.0</td>\n",
       "      <td>...</td>\n",
       "      <td>art|insurance investigator|martinique|painting...</td>\n",
       "      <td>419.0</td>\n",
       "      <td>English</td>\n",
       "      <td>United States</td>\n",
       "      <td>R</td>\n",
       "      <td>48000000.0</td>\n",
       "      <td>1999.0</td>\n",
       "      <td>977.0</td>\n",
       "      <td>6.8</td>\n",
       "      <td>0</td>\n",
       "    </tr>\n",
       "    <tr>\n",
       "      <th>1500</th>\n",
       "      <td>1598</td>\n",
       "      <td>Color</td>\n",
       "      <td>Garry Marshall</td>\n",
       "      <td>108.0</td>\n",
       "      <td>111.0</td>\n",
       "      <td>0.0</td>\n",
       "      <td>529.0</td>\n",
       "      <td>Hector Elizondo</td>\n",
       "      <td>11000.0</td>\n",
       "      <td>108244774.0</td>\n",
       "      <td>...</td>\n",
       "      <td>cinderella story|fish out of water|makeover|ma...</td>\n",
       "      <td>301.0</td>\n",
       "      <td>English</td>\n",
       "      <td>United States</td>\n",
       "      <td>G</td>\n",
       "      <td>37000000.0</td>\n",
       "      <td>2001.0</td>\n",
       "      <td>995.0</td>\n",
       "      <td>6.2</td>\n",
       "      <td>0</td>\n",
       "    </tr>\n",
       "    <tr>\n",
       "      <th>2000</th>\n",
       "      <td>2165</td>\n",
       "      <td>Color</td>\n",
       "      <td>Ben Falcone</td>\n",
       "      <td>148.0</td>\n",
       "      <td>100.0</td>\n",
       "      <td>265.0</td>\n",
       "      <td>265.0</td>\n",
       "      <td>Mark Duplass</td>\n",
       "      <td>989.0</td>\n",
       "      <td>84518155.0</td>\n",
       "      <td>...</td>\n",
       "      <td>alcoholic|grandmother|highway travel|niagara f...</td>\n",
       "      <td>144.0</td>\n",
       "      <td>English</td>\n",
       "      <td>United States</td>\n",
       "      <td>R</td>\n",
       "      <td>20000000.0</td>\n",
       "      <td>2014.0</td>\n",
       "      <td>830.0</td>\n",
       "      <td>4.9</td>\n",
       "      <td>11000</td>\n",
       "    </tr>\n",
       "    <tr>\n",
       "      <th>2500</th>\n",
       "      <td>2771</td>\n",
       "      <td>Color</td>\n",
       "      <td>Ole Bornedal</td>\n",
       "      <td>264.0</td>\n",
       "      <td>92.0</td>\n",
       "      <td>30.0</td>\n",
       "      <td>309.0</td>\n",
       "      <td>Madison Davenport</td>\n",
       "      <td>941.0</td>\n",
       "      <td>49122319.0</td>\n",
       "      <td>...</td>\n",
       "      <td>basketball coach|box|jewish|rabbi|yard sale</td>\n",
       "      <td>162.0</td>\n",
       "      <td>English</td>\n",
       "      <td>United States</td>\n",
       "      <td>PG-13</td>\n",
       "      <td>14000000.0</td>\n",
       "      <td>2012.0</td>\n",
       "      <td>459.0</td>\n",
       "      <td>5.9</td>\n",
       "      <td>17000</td>\n",
       "    </tr>\n",
       "    <tr>\n",
       "      <th>3000</th>\n",
       "      <td>3438</td>\n",
       "      <td>Color</td>\n",
       "      <td>Jason Reitman</td>\n",
       "      <td>239.0</td>\n",
       "      <td>92.0</td>\n",
       "      <td>655.0</td>\n",
       "      <td>88.0</td>\n",
       "      <td>Cameron Bright</td>\n",
       "      <td>24000.0</td>\n",
       "      <td>24792061.0</td>\n",
       "      <td>...</td>\n",
       "      <td>cigarette smoking|lobbyist|political satire|re...</td>\n",
       "      <td>323.0</td>\n",
       "      <td>English</td>\n",
       "      <td>United States</td>\n",
       "      <td>R</td>\n",
       "      <td>6500000.0</td>\n",
       "      <td>2005.0</td>\n",
       "      <td>829.0</td>\n",
       "      <td>7.6</td>\n",
       "      <td>0</td>\n",
       "    </tr>\n",
       "    <tr>\n",
       "      <th>3500</th>\n",
       "      <td>4260</td>\n",
       "      <td>Color</td>\n",
       "      <td>Alex Kendrick</td>\n",
       "      <td>34.0</td>\n",
       "      <td>129.0</td>\n",
       "      <td>589.0</td>\n",
       "      <td>341.0</td>\n",
       "      <td>Alex Kendrick</td>\n",
       "      <td>690.0</td>\n",
       "      <td>34522221.0</td>\n",
       "      <td>...</td>\n",
       "      <td>faith|fatherhood|integrity|police|responsibility</td>\n",
       "      <td>175.0</td>\n",
       "      <td>English</td>\n",
       "      <td>United States</td>\n",
       "      <td>PG-13</td>\n",
       "      <td>2000000.0</td>\n",
       "      <td>2011.0</td>\n",
       "      <td>589.0</td>\n",
       "      <td>7.0</td>\n",
       "      <td>10000</td>\n",
       "    </tr>\n",
       "  </tbody>\n",
       "</table>\n",
       "<p>8 rows × 26 columns</p>\n",
       "</div>"
      ],
      "text/plain": [
       "      index  color     director_name  num_critic_for_reviews  duration  \\\n",
       "0         0  Color     James Cameron                   723.0     178.0   \n",
       "500     523  Color  Steven Spielberg                   177.0     129.0   \n",
       "1000   1058  Color    John McTiernan                   152.0     113.0   \n",
       "1500   1598  Color    Garry Marshall                   108.0     111.0   \n",
       "2000   2165  Color       Ben Falcone                   148.0     100.0   \n",
       "2500   2771  Color      Ole Bornedal                   264.0      92.0   \n",
       "3000   3438  Color     Jason Reitman                   239.0      92.0   \n",
       "3500   4260  Color     Alex Kendrick                    34.0     129.0   \n",
       "\n",
       "      director_facebook_likes  actor_3_facebook_likes       actor_2_name  \\\n",
       "0                         0.0                   855.0   Joel David Moore   \n",
       "500                   14000.0                   227.0     Richard Schiff   \n",
       "1000                    323.0                   835.0       Faye Dunaway   \n",
       "1500                      0.0                   529.0    Hector Elizondo   \n",
       "2000                    265.0                   265.0       Mark Duplass   \n",
       "2500                     30.0                   309.0  Madison Davenport   \n",
       "3000                    655.0                    88.0     Cameron Bright   \n",
       "3500                    589.0                   341.0      Alex Kendrick   \n",
       "\n",
       "      actor_1_facebook_likes        gross         ...           \\\n",
       "0                     1000.0  760505847.0         ...            \n",
       "500                    610.0  229074524.0         ...            \n",
       "1000                  1000.0   69304264.0         ...            \n",
       "1500                 11000.0  108244774.0         ...            \n",
       "2000                   989.0   84518155.0         ...            \n",
       "2500                   941.0   49122319.0         ...            \n",
       "3000                 24000.0   24792061.0         ...            \n",
       "3500                   690.0   34522221.0         ...            \n",
       "\n",
       "                                          plot_keywords num_user_for_reviews  \\\n",
       "0                avatar|future|marine|native|paraplegic               3054.0   \n",
       "500      capture|dinosaur|island|jurassic|jurassic park                552.0   \n",
       "1000  art|insurance investigator|martinique|painting...                419.0   \n",
       "1500  cinderella story|fish out of water|makeover|ma...                301.0   \n",
       "2000  alcoholic|grandmother|highway travel|niagara f...                144.0   \n",
       "2500        basketball coach|box|jewish|rabbi|yard sale                162.0   \n",
       "3000  cigarette smoking|lobbyist|political satire|re...                323.0   \n",
       "3500   faith|fatherhood|integrity|police|responsibility                175.0   \n",
       "\n",
       "     language        country  content_rating       budget title_year  \\\n",
       "0     English  United States           PG-13  237000000.0     2009.0   \n",
       "500   English  United States           PG-13   73000000.0     1997.0   \n",
       "1000  English  United States               R   48000000.0     1999.0   \n",
       "1500  English  United States               G   37000000.0     2001.0   \n",
       "2000  English  United States               R   20000000.0     2014.0   \n",
       "2500  English  United States           PG-13   14000000.0     2012.0   \n",
       "3000  English  United States               R    6500000.0     2005.0   \n",
       "3500  English  United States           PG-13    2000000.0     2011.0   \n",
       "\n",
       "      actor_2_facebook_likes imdb_score movie_facebook_likes  \n",
       "0                      936.0        7.9                33000  \n",
       "500                    506.0        6.5                    0  \n",
       "1000                   977.0        6.8                    0  \n",
       "1500                   995.0        6.2                    0  \n",
       "2000                   830.0        4.9                11000  \n",
       "2500                   459.0        5.9                17000  \n",
       "3000                   829.0        7.6                    0  \n",
       "3500                   589.0        7.0                10000  \n",
       "\n",
       "[8 rows x 26 columns]"
      ]
     },
     "execution_count": 12,
     "metadata": {},
     "output_type": "execute_result"
    }
   ],
   "source": [
    "movieDS[0::500]"
   ]
  },
  {
   "cell_type": "code",
   "execution_count": 13,
   "metadata": {
    "collapsed": true
   },
   "outputs": [],
   "source": [
    "# create an instance of the easy money class\n",
    "ep = EasyPeasy()"
   ]
  },
  {
   "cell_type": "code",
   "execution_count": 14,
   "metadata": {
    "collapsed": false,
    "scrolled": true
   },
   "outputs": [
    {
     "name": "stdout",
     "output_type": "stream",
     "text": [
      "[]\n",
      "0\n",
      "time: 22.43\n"
     ]
    }
   ],
   "source": [
    "# In this section the easy momey library is being used to first convert the gross and budget amount to US dollars\n",
    "# since this dataset includes movies from all over the world and second the budget and gross are being adjusted\n",
    "# for inflation somce the set includes movies from different years.\n",
    "\n",
    "start = time()\n",
    "no_work = []\n",
    "year = 0\n",
    "for x in range(0,rows):\n",
    "    try:\n",
    "        mon_budget = ep.currency_converter(amount=int(movieDS.ix[x]['budget']), \\\n",
    "                                    from_currency=movieDS.ix[x]['country'], to_currency='USD')\n",
    "        mon_gross = ep.currency_converter(amount=int(movieDS.ix[x]['gross']), \\\n",
    "                                    from_currency=movieDS.ix[x]['country'], to_currency='USD')\n",
    "    except:\n",
    "        no_work.append([movieDS.ix[x]['country'], int(movieDS.ix[x]['gross'])])\n",
    "    try:\n",
    "        if movieDS.ix[x]['title_year'] < 1960:\n",
    "            year = 1960\n",
    "        else:\n",
    "            year = movieDS.ix[x]['title_year']\n",
    "        movieDS.ix[f,'budget'] = ep.normalize(amount = mon_budget, region='USA', base_currency=\"USD\", \\\n",
    "                                               from_year=year, to_year='latest')\n",
    "        movieDS.ix[f,'gross'] = ep.normalize(amount = mon_gross, region='USA', base_currency=\"USD\", \\\n",
    "                                               from_year=year, to_year='latest') \n",
    "    except:\n",
    "        no_work.append([movieDS.ix[x]['country'], int(movieDS.ix[x]['budget'])])\n",
    "        \n",
    "print(no_work)\n",
    "print(len(no_work))\n",
    "print('time: %.2f' % (time()-start))"
   ]
  },
  {
   "cell_type": "code",
   "execution_count": 15,
   "metadata": {
    "collapsed": false
   },
   "outputs": [],
   "source": [
    "# create the Imputer used for handling NaN values\n",
    "# use the 'mean' strategy \n",
    "imr = Imputer(missing_values='NaN', strategy='mean', axis=0, verbose=0, copy=True)\n",
    "\n",
    "# fit our numerical feature matrix into our Imputer\n",
    "# (calculates the mean for each of the features)\n",
    "imr = imr.fit(xNums)\n",
    "\n",
    "# transform all the 'NaN' values into the 'mean' values that we calculated for that features\n",
    "xNumsImputed = imr.transform(xNums.values)\n",
    "\n",
    "# create a new DataFrame using the Inputed values\n",
    "imputedDF = pd.DataFrame(data=xNumsImputed, columns=numCols)"
   ]
  },
  {
   "cell_type": "code",
   "execution_count": 16,
   "metadata": {
    "collapsed": true
   },
   "outputs": [],
   "source": [
    "# create a normalization function to scale the values from [-1,1]\n",
    "\n",
    "def scaleData(num):\n",
    "    maxNum = num.max()\n",
    "    minNum = num.min()\n",
    "    reList = []\n",
    "    for n in num:\n",
    "        reList.append((-1 + ((n - minNum)*(1 + 1)/(maxNum - minNum))))\n",
    "    return reList\n",
    "\n",
    "# apply our normalization function to the imputed values\n",
    "imputedDF = imputedDF.apply(scaleData)"
   ]
  },
  {
   "cell_type": "code",
   "execution_count": 17,
   "metadata": {
    "collapsed": false
   },
   "outputs": [
    {
     "data": {
      "text/plain": [
       "num_critic_for_reviews       0\n",
       "duration                     0\n",
       "director_facebook_likes      0\n",
       "actor_3_facebook_likes       0\n",
       "actor_1_facebook_likes       0\n",
       "num_voted_users              0\n",
       "cast_total_facebook_likes    0\n",
       "num_user_for_reviews         0\n",
       "budget                       0\n",
       "title_year                   0\n",
       "actor_2_facebook_likes       0\n",
       "imdb_score                   0\n",
       "movie_facebook_likes         0\n",
       "gross                        0\n",
       "dtype: int64"
      ]
     },
     "execution_count": 17,
     "metadata": {},
     "output_type": "execute_result"
    }
   ],
   "source": [
    "# check for null values in the numerical feature matrix\n",
    "imputedDF.isnull().sum()"
   ]
  },
  {
   "cell_type": "code",
   "execution_count": 18,
   "metadata": {
    "collapsed": false
   },
   "outputs": [
    {
     "data": {
      "text/plain": [
       "color              2\n",
       "director_name      0\n",
       "actor_2_name       0\n",
       "genres             0\n",
       "actor_1_name       0\n",
       "movie_title        0\n",
       "actor_3_name       4\n",
       "plot_keywords     28\n",
       "language           3\n",
       "country            0\n",
       "content_rating    44\n",
       "dtype: int64"
      ]
     },
     "execution_count": 18,
     "metadata": {},
     "output_type": "execute_result"
    }
   ],
   "source": [
    "# check for null values in the categorical feature matrix\n",
    "xWords.isnull().sum()"
   ]
  },
  {
   "cell_type": "code",
   "execution_count": 19,
   "metadata": {
    "collapsed": false
   },
   "outputs": [],
   "source": [
    "# reset the index so the dataframes have something to join on\n",
    "# since xWords derives from the dataframe with the dropped rows, the indices need to be reset to account for the dropped rows\n",
    "\n",
    "xWords = xWords.reset_index()\n"
   ]
  },
  {
   "cell_type": "code",
   "execution_count": 20,
   "metadata": {
    "collapsed": false
   },
   "outputs": [
    {
     "data": {
      "text/html": [
       "<div>\n",
       "<table border=\"1\" class=\"dataframe\">\n",
       "  <thead>\n",
       "    <tr style=\"text-align: right;\">\n",
       "      <th></th>\n",
       "      <th>num_critic_for_reviews</th>\n",
       "      <th>duration</th>\n",
       "      <th>director_facebook_likes</th>\n",
       "      <th>actor_3_facebook_likes</th>\n",
       "      <th>actor_1_facebook_likes</th>\n",
       "      <th>num_voted_users</th>\n",
       "      <th>cast_total_facebook_likes</th>\n",
       "      <th>num_user_for_reviews</th>\n",
       "      <th>budget</th>\n",
       "      <th>title_year</th>\n",
       "      <th>actor_2_facebook_likes</th>\n",
       "      <th>imdb_score</th>\n",
       "      <th>movie_facebook_likes</th>\n",
       "      <th>gross</th>\n",
       "    </tr>\n",
       "  </thead>\n",
       "  <tbody>\n",
       "    <tr>\n",
       "      <th>0</th>\n",
       "      <td>0.778325</td>\n",
       "      <td>-0.027027</td>\n",
       "      <td>-1.000000</td>\n",
       "      <td>-0.925652</td>\n",
       "      <td>-0.996875</td>\n",
       "      <td>0.048906</td>\n",
       "      <td>-0.985279</td>\n",
       "      <td>0.206958</td>\n",
       "      <td>-0.961197</td>\n",
       "      <td>0.854167</td>\n",
       "      <td>-0.986336</td>\n",
       "      <td>0.636364</td>\n",
       "      <td>-0.810888</td>\n",
       "      <td>1.000000</td>\n",
       "    </tr>\n",
       "    <tr>\n",
       "      <th>1000</th>\n",
       "      <td>-0.628079</td>\n",
       "      <td>-0.466216</td>\n",
       "      <td>-0.971913</td>\n",
       "      <td>-0.927391</td>\n",
       "      <td>-0.996875</td>\n",
       "      <td>-0.913523</td>\n",
       "      <td>-0.985808</td>\n",
       "      <td>-0.834750</td>\n",
       "      <td>-0.992141</td>\n",
       "      <td>0.645833</td>\n",
       "      <td>-0.985737</td>\n",
       "      <td>0.350649</td>\n",
       "      <td>-1.000000</td>\n",
       "      <td>-0.817742</td>\n",
       "    </tr>\n",
       "    <tr>\n",
       "      <th>2000</th>\n",
       "      <td>-0.637931</td>\n",
       "      <td>-0.554054</td>\n",
       "      <td>-0.976957</td>\n",
       "      <td>-0.976957</td>\n",
       "      <td>-0.996909</td>\n",
       "      <td>-0.957438</td>\n",
       "      <td>-0.991918</td>\n",
       "      <td>-0.943467</td>\n",
       "      <td>-0.996726</td>\n",
       "      <td>0.958333</td>\n",
       "      <td>-0.987883</td>\n",
       "      <td>-0.142857</td>\n",
       "      <td>-0.936963</td>\n",
       "      <td>-0.777732</td>\n",
       "    </tr>\n",
       "    <tr>\n",
       "      <th>3000</th>\n",
       "      <td>-0.413793</td>\n",
       "      <td>-0.608108</td>\n",
       "      <td>-0.943043</td>\n",
       "      <td>-0.992348</td>\n",
       "      <td>-0.925000</td>\n",
       "      <td>-0.772757</td>\n",
       "      <td>-0.923585</td>\n",
       "      <td>-0.872702</td>\n",
       "      <td>-0.998936</td>\n",
       "      <td>0.770833</td>\n",
       "      <td>-0.987898</td>\n",
       "      <td>0.558442</td>\n",
       "      <td>-1.000000</td>\n",
       "      <td>-0.934802</td>\n",
       "    </tr>\n",
       "  </tbody>\n",
       "</table>\n",
       "</div>"
      ],
      "text/plain": [
       "      num_critic_for_reviews  duration  director_facebook_likes  \\\n",
       "0                   0.778325 -0.027027                -1.000000   \n",
       "1000               -0.628079 -0.466216                -0.971913   \n",
       "2000               -0.637931 -0.554054                -0.976957   \n",
       "3000               -0.413793 -0.608108                -0.943043   \n",
       "\n",
       "      actor_3_facebook_likes  actor_1_facebook_likes  num_voted_users  \\\n",
       "0                  -0.925652               -0.996875         0.048906   \n",
       "1000               -0.927391               -0.996875        -0.913523   \n",
       "2000               -0.976957               -0.996909        -0.957438   \n",
       "3000               -0.992348               -0.925000        -0.772757   \n",
       "\n",
       "      cast_total_facebook_likes  num_user_for_reviews    budget  title_year  \\\n",
       "0                     -0.985279              0.206958 -0.961197    0.854167   \n",
       "1000                  -0.985808             -0.834750 -0.992141    0.645833   \n",
       "2000                  -0.991918             -0.943467 -0.996726    0.958333   \n",
       "3000                  -0.923585             -0.872702 -0.998936    0.770833   \n",
       "\n",
       "      actor_2_facebook_likes  imdb_score  movie_facebook_likes     gross  \n",
       "0                  -0.986336    0.636364             -0.810888  1.000000  \n",
       "1000               -0.985737    0.350649             -1.000000 -0.817742  \n",
       "2000               -0.987883   -0.142857             -0.936963 -0.777732  \n",
       "3000               -0.987898    0.558442             -1.000000 -0.934802  "
      ]
     },
     "execution_count": 20,
     "metadata": {},
     "output_type": "execute_result"
    }
   ],
   "source": [
    "# now we can merge the numerical imputed values with our categorical values based on their corresponding indices\n",
    "x = pd.merge(left=imputedDF, right=xWords,left_index = True, right_index = True)\n",
    "\n",
    "imputedDF[::1000]\n"
   ]
  },
  {
   "cell_type": "code",
   "execution_count": 21,
   "metadata": {
    "collapsed": false
   },
   "outputs": [],
   "source": [
    "# ---------------------- CREATING OUR OWN K MEANS CLASSIFIER (CLASS OBJECT) --------------------------\n",
    "class MyKC():\n",
    "        \n",
    "    # ---------- Initialize the lists, k's, and other attributes for the classifier ----------\n",
    "    def __init__(self, number_k=2):\n",
    "        self.k = number_k\n",
    "        self.init_p = []\n",
    "        self.clusters = []\n",
    "\n",
    "\n",
    "    # ------------------- USED FOR TESTING PURPOSES --------------------\n",
    "    # ------------- PRINTS CENTROID POINTS, CLUSTERS, AND NUMBER OF ITEMS IN EACH CLUSTER -------------------\n",
    "    def printall(self):\n",
    "        print(\"\\n----------------------------------------BEGIN PRINT ALL----------------------------------------\\n\")\n",
    "        print(\"\\n\\t\\t\\tInitial Points:\\n\\t\", self.init_p)\n",
    "        print(\"\\n\\t\\t\\tClusters:\\n\\t\", self.clusters)\n",
    "        lst = []\n",
    "        count = 0;\n",
    "        for i in self.clusters:\n",
    "            lst.append(len(i))\n",
    "        print(\"\\n\\t\\t\\tNumber of items in each cluster: (\",lst,\")\")\n",
    "        print(\"\\n---------------------------------------END PRINT ALL-------------------------------------------\\n\")\n",
    "        \n",
    "    # ~~~~~~~~~~~~~ STEP 0 ~~~~~~~~~~~~~~~~\n",
    "    # ~~~~~~~~~~~~~ INITIALIZE K RANDOM POINTS AS THE INITIAL CENTROIDS ~~~~~~~~~~~~~\n",
    "    def randomizer(self, D):\n",
    "        # create a list of random points\n",
    "        for i in range(self.k):\n",
    "            self.init_p.append([])\n",
    "            for j in range(self.D):\n",
    "                self.init_p[i].append(rd.random())\n",
    "        self.cluster_assignment()\n",
    "\n",
    "        \n",
    "    # ~~~~~~~~~~~~ STEP 1 ~~~~~~~~~~~~~\n",
    "    # ~~~~~~~~~~~~ ASSIGN EACH DATA SAMPLE TO THE NEAREST CENTROID POINT ~~~~~~~~~~~~~~~~\n",
    "    def cluster_assignment(self, abcdef = 0):\n",
    "        self.clusters = []\n",
    "        for k in range(self.k):\n",
    "            self.clusters.append([])\n",
    "\n",
    "        for i in self.data:\n",
    "            distances = list()\n",
    "            for j in self.init_p:\n",
    "                d1 = norm(i)\n",
    "                d2 = norm(j)\n",
    "                d = abs(d1 - d2)\n",
    "                distances.append(d)\n",
    "            smallest_d = min(distances)\n",
    "            index = distances.index(smallest_d)\n",
    "            self.clusters[index].append(i)\n",
    "        self.tries += 1\n",
    "        self.centroid_move()\n",
    "\n",
    "        \n",
    "#    ~~~~~~~~~~~~~ STEP 2 ~~~~~~~~~~~~~~~\n",
    "#    ~~~~~~~~~~~~~ FIND THE NEW CENTROIDS BY CALCULATING THE MEAN OF THE CURRENT CLUSTER ~~~~~~~~~~~\n",
    "    def centroid_move(self):\n",
    "        newlst = []\n",
    "        for q in self.clusters:\n",
    "            q = np.array(q)\n",
    "            \n",
    "            if (len(q) != 0):\n",
    "                avg = sum(q)/(len(q))\n",
    "            else:\n",
    "                avg = np.zeros((self.D, ))\n",
    "            avg = avg.tolist()\n",
    "            newlst.append(avg)\n",
    "        \n",
    "        if (self.init_p == newlst):\n",
    "            print(\"Trained!\")\n",
    "        elif (self.init_p != newlst and self.tries < 50):\n",
    "            self.init_p = deepcopy(newlst)\n",
    "            self.cluster_assignment()\n",
    "        else:\n",
    "            print(\"Took more than 50 loops to train!\")\n",
    "\n",
    "    # normalize our data \n",
    "    def makenormal(self, f_train):\n",
    "        A = f_train\n",
    "        mms = MinMaxScaler()\n",
    "        self.data = mms.fit_transform(A)\n",
    "        self.data = pd.DataFrame(self.data)\n",
    "        self.data = self.data.get_values()\n",
    "        self.data = self.data.tolist()\n",
    "        self.D = len(list(A.columns.values))\n",
    "    \n",
    "    def fit(self, f_train):\n",
    "        self.makenormal(f_train)\n",
    "        self.tries = 0\n",
    "        self.randomizer(self.D)\n",
    "        \n",
    "    # not implemented because we aren't predicting\n",
    "    def predict(self, f_test):\n",
    "        pass\n",
    "    \n",
    "\n"
   ]
  },
  {
   "cell_type": "code",
   "execution_count": 22,
   "metadata": {
    "collapsed": false
   },
   "outputs": [
    {
     "name": "stdout",
     "output_type": "stream",
     "text": [
      "Trained!\n"
     ]
    },
    {
     "data": {
      "text/plain": [
       "<function matplotlib.pyplot.show>"
      ]
     },
     "execution_count": 22,
     "metadata": {},
     "output_type": "execute_result"
    },
    {
     "data": {
      "image/png": "[encoded data removed]",
      "text/plain": [
       "<matplotlib.figure.Figure at 0x10b4c2550>"
      ]
     },
     "metadata": {},
     "output_type": "display_data"
    }
   ],
   "source": [
    "# Create our classifier\n",
    "mc = MyKC(number_k=3)\n",
    "\n",
    "# Train our classifier using the 'fit' method we defined above\n",
    "imputedDFKMeans = imputedDF[['budget', 'imdb_score']]\n",
    "\n",
    "mc.fit(imputedDFKMeans)\n",
    "\n",
    "# ~~~~~~~~~~~~~~~~~~~~~~~~~~~~~~~~~ MY K MEANS ALGORITHM ~~~~~~~~~~~~~~~~~~~~~~~~~~~~~~~\n",
    "%matplotlib inline\n",
    "\n",
    "plt.figure\n",
    "count = 0\n",
    "for i, c in zip(mc.clusters, ['red','blue', 'green']):\n",
    "    # each 'i' is a cluster\n",
    "    plt.plot(mc.init_p[count][0], mc.init_p[count][1], color=c,marker='o', markersize='7')\n",
    "    for j in i:\n",
    "        # each 'j' is a point in cluster 'i'\n",
    "        plt.scatter(j[0],j[1], color=c, marker='x')\n",
    "    count += 1\n",
    "    \n",
    "plt.xlim([-1.1,1.1])\n",
    "plt.ylim([-1.1,1.1])\n",
    "plt.title('My KMeans Algorithm (using Imputed Values)')\n",
    "plt.xlabel('Budget')\n",
    "plt.ylabel('Imdb_Score')\n",
    "\n",
    "plt.show\n",
    "\n"
   ]
  },
  {
   "cell_type": "code",
   "execution_count": 23,
   "metadata": {
    "collapsed": true
   },
   "outputs": [],
   "source": [
    "# We can see that typically Budget does not affect IMDB_Score as much as we would probably assume \n"
   ]
  },
  {
   "cell_type": "code",
   "execution_count": 24,
   "metadata": {
    "collapsed": false
   },
   "outputs": [
    {
     "name": "stdout",
     "output_type": "stream",
     "text": [
      "Trained!\n"
     ]
    },
    {
     "data": {
      "text/plain": [
       "<function matplotlib.pyplot.show>"
      ]
     },
     "execution_count": 24,
     "metadata": {},
     "output_type": "execute_result"
    },
    {
     "data": {
      "image/png": "[encoded data removed]",
      "text/plain": [
       "<matplotlib.figure.Figure at 0x1159df908>"
      ]
     },
     "metadata": {},
     "output_type": "display_data"
    }
   ],
   "source": [
    "# Create our classifier\n",
    "mc = MyKC(number_k=3)\n",
    "\n",
    "# Train our classifier using the 'fit' method we defined above\n",
    "imputedDFKMeans = imputedDF[['actor_1_facebook_likes', 'movie_facebook_likes']]\n",
    "\n",
    "mc.fit(imputedDFKMeans)\n",
    "\n",
    "# ~~~~~~~~~~~~~~~~~~~~~~~~~~~~~~~~~ MY K MEANS ALGORITHM ~~~~~~~~~~~~~~~~~~~~~~~~~~~~~~~\n",
    "%matplotlib inline\n",
    "\n",
    "plt.figure\n",
    "count = 0\n",
    "for i, c in zip(mc.clusters, ['red','blue', 'green']):\n",
    "    # each 'i' is a cluster\n",
    "    plt.plot(mc.init_p[count][0], mc.init_p[count][1], color=c,marker='o', markersize='7')\n",
    "    for j in i:\n",
    "        # each 'j' is a point in cluster 'i'\n",
    "        plt.scatter(j[0],j[1], color=c, marker='x')\n",
    "    count += 1\n",
    "    \n",
    "plt.xlim([-1.1,1.3])\n",
    "plt.ylim([-1.1,1.3])\n",
    "plt.title('My KMeans Algorithm (using Imputed Values)')\n",
    "plt.xlabel('Actor_1_Facebook_Likes')\n",
    "plt.ylabel('Movie_Facebook_Likes')\n",
    "\n",
    "plt.show\n",
    "\n"
   ]
  },
  {
   "cell_type": "code",
   "execution_count": 25,
   "metadata": {
    "collapsed": false
   },
   "outputs": [
    {
     "name": "stdout",
     "output_type": "stream",
     "text": [
      "Trained!\n"
     ]
    },
    {
     "data": {
      "text/plain": [
       "<function matplotlib.pyplot.show>"
      ]
     },
     "execution_count": 25,
     "metadata": {},
     "output_type": "execute_result"
    },
    {
     "data": {
      "image/png": "[encoded data removed]",
      "text/plain": [
       "<matplotlib.figure.Figure at 0x117abbcc0>"
      ]
     },
     "metadata": {},
     "output_type": "display_data"
    }
   ],
   "source": [
    "# Create our classifier\n",
    "mc = MyKC(number_k=3)\n",
    "\n",
    "# Train our classifier using the 'fit' method we defined above\n",
    "imputedDFKMeans = imputedDF[['director_facebook_likes', 'title_year']]\n",
    "mc.fit(imputedDFKMeans)\n",
    "\n",
    "# ~~~~~~~~~~~~~~~~~~~~~~~~~~~~~~~~~ MY K MEANS ALGORITHM ~~~~~~~~~~~~~~~~~~~~~~~~~~~~~~~\n",
    "%matplotlib inline\n",
    "\n",
    "plt.figure\n",
    "count = 0\n",
    "for i, c in zip(mc.clusters, ['red','blue', 'green']):\n",
    "    # each 'i' is a cluster\n",
    "    plt.plot(mc.init_p[count][0], mc.init_p[count][1], color=c,marker='o', markersize='7')\n",
    "    for j in i:\n",
    "        # each 'j' is a point in cluster 'i'\n",
    "        plt.scatter(j[0],j[1], color=c, marker='x')\n",
    "    count += 1\n",
    "    \n",
    "plt.xlim([-0.5,1.3])\n",
    "plt.ylim([-0.5,1.3])\n",
    "plt.title('My KMeans Algorithm (using Imputed Values)')\n",
    "plt.xlabel('Director_Facebook_Likes')\n",
    "plt.ylabel('Title_Year')\n",
    "\n",
    "plt.show\n"
   ]
  },
  {
   "cell_type": "code",
   "execution_count": 26,
   "metadata": {
    "collapsed": true
   },
   "outputs": [],
   "source": [
    "# Here we see that Directors of more recent movies have more Facebook Likes\n",
    "# We can attribute that to the recent development of Facebook and Social Media"
   ]
  },
  {
   "cell_type": "code",
   "execution_count": 27,
   "metadata": {
    "collapsed": false
   },
   "outputs": [
    {
     "name": "stdout",
     "output_type": "stream",
     "text": [
      "Trained!\n"
     ]
    },
    {
     "data": {
      "text/plain": [
       "<function matplotlib.pyplot.show>"
      ]
     },
     "execution_count": 27,
     "metadata": {},
     "output_type": "execute_result"
    },
    {
     "data": {
      "image/png": "[encoded data removed]",
      "text/plain": [
       "<matplotlib.figure.Figure at 0x11b982f60>"
      ]
     },
     "metadata": {},
     "output_type": "display_data"
    }
   ],
   "source": [
    "# Create our classifier\n",
    "mc = MyKC(number_k=3)\n",
    "\n",
    "# Train our classifier using the 'fit' method we defined above\n",
    "imputedDFKMeans = imputedDF[['num_critic_for_reviews', 'gross']]\n",
    "mc.fit(imputedDFKMeans)\n",
    "\n",
    "# ~~~~~~~~~~~~~~~~~~~~~~~~~~~~~~~~~ MY K MEANS ALGORITHM ~~~~~~~~~~~~~~~~~~~~~~~~~~~~~~~\n",
    "%matplotlib inline\n",
    "\n",
    "plt.figure\n",
    "count = 0\n",
    "for i, c in zip(mc.clusters, ['red','blue', 'green']):\n",
    "    # each 'i' is a cluster\n",
    "    plt.plot(mc.init_p[count][0], mc.init_p[count][1], color=c,marker='o', markersize='7')\n",
    "    for j in i:\n",
    "        # each 'j' is a point in cluster 'i'\n",
    "        plt.scatter(j[0],j[1], color=c, marker='x')\n",
    "    count += 1\n",
    "    \n",
    "plt.xlim([-0.5,1.3])\n",
    "plt.ylim([-0.5,1.3])\n",
    "plt.title('My KMeans Algorithm (using Imputed Values)')\n",
    "plt.xlabel('Num_Critic_For_Reviews')\n",
    "plt.ylabel('Gross')\n",
    "\n",
    "plt.show\n"
   ]
  },
  {
   "cell_type": "code",
   "execution_count": 28,
   "metadata": {
    "collapsed": true
   },
   "outputs": [],
   "source": [
    "# Here we see that there is a correlation between the number of reviews by critics and the number of reviews by Users\n",
    "# A higher amount of critic reviews means there is probably a higher amount of User Reviews"
   ]
  },
  {
   "cell_type": "code",
   "execution_count": 29,
   "metadata": {
    "collapsed": false
   },
   "outputs": [
    {
     "name": "stdout",
     "output_type": "stream",
     "text": [
      "380253004.5\n",
      "[ -2.23517418e-07  -6.70552254e-08  -9.68575478e-08  -1.56462193e-07\n",
      "  -5.17815351e-07   4.88013029e-07   8.81031156e-07   2.23517418e-08\n",
      "  -8.89413059e-08  -1.22934580e-07  -3.35276127e-08   1.49011612e-08\n",
      "   8.38190317e-08   3.80252842e+08]\n",
      "Index(['num_critic_for_reviews', 'duration', 'director_facebook_likes',\n",
      "       'actor_3_facebook_likes', 'actor_1_facebook_likes', 'num_voted_users',\n",
      "       'cast_total_facebook_likes', 'num_user_for_reviews', 'budget',\n",
      "       'title_year', 'actor_2_facebook_likes', 'imdb_score',\n",
      "       'movie_facebook_likes', 'gross'],\n",
      "      dtype='object')\n",
      "RMSE: 8.65254412933e-08\n"
     ]
    },
    {
     "name": "stderr",
     "output_type": "stream",
     "text": [
      "/Users/edgar/Software/Jupyter/lib/python3.6/site-packages/scipy/linalg/basic.py:1018: RuntimeWarning: internal gelsd driver lwork query error, required iwork dimension not returned. This is likely the result of LAPACK bug 0038, fixed in LAPACK 3.2.2 (released July 21, 2010). Falling back to 'gelss' driver.\n",
      "  warnings.warn(mesg, RuntimeWarning)\n"
     ]
    }
   ],
   "source": [
    "xC = imputedDF[:]\n",
    "# yC = yImputed[:]\n",
    "yC = y[:]\n",
    "\n",
    "\n",
    "\n",
    " \n",
    "#split the data in to training and testing with a random state of 2.\n",
    "\n",
    "xcTrain, xcTest, ycTrain, ycTest = train_test_split(xC, yC, test_size=0.4, random_state=2)\n",
    "\n",
    "\n",
    "#Linear Regression object\n",
    "\n",
    "myLinReg = LinearRegression()\n",
    "\n",
    "myLinReg.fit(xcTrain, ycTrain)\n",
    "\n",
    "# printing Theta0 using attribute \"intercept_\":\n",
    "print(myLinReg.intercept_)\n",
    "\n",
    "# printing [Theta1, Theta2, Theta3] using attribute \"coef_\":\n",
    "print(myLinReg.coef_)\n",
    "print(xC.columns)\n",
    "\n",
    "\n",
    "# We see from the data that the highest absolute values for theta correspond to\n",
    "# the 'actor_1_facebook_likes,' followed by 'cast_total_facebook_likes'\n",
    "\n",
    "# And the worst is 'duration'\n",
    "\n",
    "\n",
    "yPrediction = myLinReg.predict(xcTest)\n",
    "\n",
    "# using rmse\n",
    "\n",
    "# calculate the mean square error\n",
    "mse = metrics.mean_squared_error(ycTest, yPrediction)\n",
    "\n",
    "# using numpy to get the square root of the mse\n",
    "rmse = np.sqrt(mse)\n",
    "\n",
    "# print the rmse\n",
    "print('RMSE:', rmse)"
   ]
  },
  {
   "cell_type": "code",
   "execution_count": 30,
   "metadata": {
    "collapsed": false
   },
   "outputs": [
    {
     "name": "stdout",
     "output_type": "stream",
     "text": [
      "[  2.38793112e-14   4.32554425e-14   1.33203693e-14   1.88016990e-14\n",
      "   1.11887411e-14   1.32280911e-14   1.53043523e-14   1.06858245e-14\n",
      "   3.43044496e-15   5.50948176e-15]\n",
      "[  1.54529322e-07   2.07979428e-07   1.15413904e-07   1.37119288e-07\n",
      "   1.05776846e-07   1.15013439e-07   1.23710761e-07   1.03372262e-07\n",
      "   5.85700005e-08   7.42258834e-08]\n",
      "Mean RMSE scores:  1.19571113257e-07\n"
     ]
    }
   ],
   "source": [
    "#using 10 fold fold validation\n",
    "\n",
    "myLinRegCV = LinearRegression()\n",
    "\n",
    "accuracyLinRegCV = cross_val_score(myLinRegCV, xC, yC, scoring='neg_mean_squared_error', cv=10)\n",
    "\n",
    "\n",
    "mseScores = -accuracyLinRegCV\n",
    "print(mseScores)\n",
    "\n",
    "rmseCV = np.sqrt(mseScores)\n",
    "print(rmseCV)\n",
    "print('Mean RMSE scores: ', rmseCV.mean())"
   ]
  },
  {
   "cell_type": "code",
   "execution_count": null,
   "metadata": {
    "collapsed": true
   },
   "outputs": [],
   "source": []
  }
 ],
 "metadata": {
  "anaconda-cloud": {},
  "kernelspec": {
   "display_name": "Python 3",
   "language": "python",
   "name": "python3"
  },
  "language_info": {
   "codemirror_mode": {
    "name": "ipython",
    "version": 3
   },
   "file_extension": ".py",
   "mimetype": "text/x-python",
   "name": "python",
   "nbconvert_exporter": "python",
   "pygments_lexer": "ipython3",
   "version": "3.6.0"
  }
 },
 "nbformat": 4,
 "nbformat_minor": 1
}
